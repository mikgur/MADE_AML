{
 "cells": [
  {
   "cell_type": "code",
   "execution_count": 1,
   "metadata": {},
   "outputs": [],
   "source": [
    "import pandas as pd\n",
    "import numpy as np\n",
    "import random\n",
    "import tqdm\n",
    "\n",
    "from collections import Counter\n",
    "\n",
    "from matplotlib import pyplot as plt\n",
    "%matplotlib inline"
   ]
  },
  {
   "cell_type": "markdown",
   "metadata": {},
   "source": [
    "# Advanced ML: Домашнее задание 4\n",
    "\n",
    "В этом небольшом домашнем задании мы попробуем улучшить метод Шерлока Холмса. Как известно, в рассказе The Adventure of the Dancing Men великий сыщик расшифровал загадочные письмена.\n",
    "\n",
    "Пользовался он для этого так называемым частотным методом: смотрел, какие буквы чаще встречаются в зашифрованных текстах, и пытался подставить буквы в соответствии с частотной таблицей: E — самая частая и так далее.\n",
    "В этом задании мы будем разрабатывать более современный и продвинутый вариант такого частотного метода. В качестве корпусов текстов для подсчётов частот можете взять что угодно, но для удобства вот вам “Война и мир” по-русски и по-английски"
   ]
  },
  {
   "cell_type": "code",
   "execution_count": 2,
   "metadata": {},
   "outputs": [],
   "source": [
    "with open('WarAndPeace.txt', 'rt') as f:\n",
    "    war_and_peace_ru = ' '.join(line for line in f).lower()\n",
    "    \n",
    "with open('WarAndPeaceEng.txt', 'rt') as f:\n",
    "    war_and_peace_en = ' '.join(line for line in f).lower()\n",
    "    \n",
    "with open('AnnaKarenina.txt', 'rt') as f:\n",
    "    anna_karenina = ' '.join(line for line in f).lower()"
   ]
  },
  {
   "cell_type": "markdown",
   "metadata": {},
   "source": [
    "## 1. Реализуйте базовый частотный метод по Шерлоку Холмсу:\n",
    "- подсчитайте частоты букв по корпусам (пунктуацию и капитализацию можно просто опустить, а вот пробелы лучше оставить);\n",
    "- возьмите какие-нибудь тестовые тексты (нужно взять по меньшей мере 2-3 предложения, иначе совсем вряд ли сработает), зашифруйте их посредством случайной перестановки символов;\n",
    "- расшифруйте их таким частотным методом."
   ]
  },
  {
   "cell_type": "code",
   "execution_count": 3,
   "metadata": {},
   "outputs": [],
   "source": [
    "alphabet_en = 'abcdefghijklmnopqrstuvwxyz '\n",
    "alphabet_ru = 'абвгдеёжзийклмнопрстуфхцчшщъыьэюя '"
   ]
  },
  {
   "cell_type": "code",
   "execution_count": 4,
   "metadata": {},
   "outputs": [],
   "source": [
    "war_and_peace_ru = ''.join([a for a in war_and_peace_ru if a in alphabet_ru])\n",
    "war_and_peace_en = ''.join([a for a in war_and_peace_en if a in alphabet_en])\n",
    "anna_karenina = ''.join([a for a in anna_karenina if a in alphabet_ru])"
   ]
  },
  {
   "cell_type": "markdown",
   "metadata": {},
   "source": [
    "Удалим последовательности пробелов в текстах"
   ]
  },
  {
   "cell_type": "code",
   "execution_count": 5,
   "metadata": {},
   "outputs": [],
   "source": [
    "def replace_spaces(text):\n",
    "    while '  ' in text:\n",
    "        text = text.replace('  ', ' ')\n",
    "    return text"
   ]
  },
  {
   "cell_type": "code",
   "execution_count": 6,
   "metadata": {},
   "outputs": [],
   "source": [
    "war_and_peace_ru = replace_spaces(war_and_peace_ru)\n",
    "war_and_peace_en = replace_spaces(war_and_peace_en)\n",
    "anna_karenina = replace_spaces(anna_karenina)"
   ]
  },
  {
   "cell_type": "code",
   "execution_count": 7,
   "metadata": {},
   "outputs": [],
   "source": [
    "def calculate_frequencies(text):\n",
    "    c = Counter(text)\n",
    "    return c"
   ]
  },
  {
   "cell_type": "code",
   "execution_count": 8,
   "metadata": {},
   "outputs": [],
   "source": [
    "frequencies_wp_ru = calculate_frequencies(war_and_peace_ru)\n",
    "frequencies_wp_en = calculate_frequencies(war_and_peace_en)\n",
    "frequencies_ak = calculate_frequencies(anna_karenina)"
   ]
  },
  {
   "cell_type": "code",
   "execution_count": 9,
   "metadata": {},
   "outputs": [],
   "source": [
    "message = 'шефредактор газеты ведомости дмитрий симаков и четыре заместителя главного редактора александр губский борис сафронов филипп стеркин и кирилл харатьян сообщили что покинут издание в знак протеста против назначения главным редактором андрея шмарова сообщается на сайте ведомостей губский работал в ведомостях с момента основания газеты все остальные порядка лет ранее ведомости сообщали что на фоне конфликта со шмаровым редакцию покинули около десяти сотрудников более чем из в том числе руководители трех отделов'\n",
    "message_en = 'My name is Kvothe. I have stolen princesses back from sleeping barrow kings. I burned down the town of Trebon. I have spent the night with Felurian and left with both my sanity and my life. I was expelled from the University at a younger age than most people are allowed in. I tread paths by moonlight that others fear to speak of during day. I have talked to Gods, loved women, and written songs that make the minstrels weep. You may have heard of me. So begins a tale unequaled in fantasy literature—the story of a hero told in his own voice. It is a tale of sorrow, a tale of survival, a tale of one man’s search for meaning in his universe, and how that search, and the indomitable will that drove it, gave birth to a legend.'\n",
    "# message = 'В «Анне Карениной» не было великих исторических деятелей или мировых событий. Не было здесь также лирических, философских или публицистических отступлений. Но споры, вызванные романом, сразу же вышли за пределы чисто литературных интересов, «как будто дело шло о вопросе, каждому лично близком».[8] Толки о романе Толстого сливались с злободневными политическими известиями. «О выходе каждой части Карениной, – отмечал Н.Н. Страхов, – в газетах извещают так же поспешно и толкуют так же усердно, как о новой битве или новом изречении Бисмарка».[9]«Роман очень живой, горячий и законченный, которым я очень доволен», – говорил Толстой в самом начале работы (62, 16). В последующие годы он иногда охладевал к своему роману. Но замысел «живой, горячий и законченный» вновь и вновь завладевал его воображением. А когда наконец труд многих лет был окончен, Толстой признался, что «общество, современное „Анне Карениной“, ему гораздо ближе, чем общество людей „Войны и мира“, вследствие чего ему легче было проникнуться чувствами и мыслями современников „Анны Карениной“, чем „Войны и мира“. А это имеет громадное значение при художественном изображении жизни».[10] В этом и состоит «вседневность» содержания толстовского романа «из современной жизни». Замысел Толстого, который он вначале называл «частным», постепенно углублялся. «Я очень часто, – как бы оправдываясь, признавался Толстой, – сажусь писать одно и вдруг перехожу на более широкие дороги: сочинение разрастается».[11] И успех романа оказался громадным; его читали во всех кругах образованного общества. И вскоре выяснилось, что «Анна Каренина» была встречена с осуждением в «высших сферах». М.Н. Катков решительно отказался печатать в «Русском вестнике» эпилог романа и «опустил перед Толстым шлагбаум». Уже тогда начиналось то отчуждение от дворянского высшего круга, которое позднее, после «Воскресения», привело к осуждению Толстого и отлучению его от церкви М.Н. Катков, лидер реакционной журналистики 70-х годов, тонко почувствовал острую критическую мысль Толстого и стремился всеми силами нейтрализовать впечатление, произведенное на современников «Анной Карениной». Но дело уже было сделано: Толстой высказался и облегчил свою совесть. Н.С. Лесков с тревогой отмечал, что за «Анну Каренину» Толстого дружно ругают «настоящие светские люди», а за ними «тянут ту же ноту действительные статские советники».[12] Изображение «золоченой молодежи» в лице Вронского и «сильных мира сего» в лице Каренина не могло не вызвать негодования. Сочувствие народной жизни, воплощенное в Левине и в картинах крестьянского быта, также не пробуждало восторга у «настоящих светских людей». «А небось чуют они все, – писал Толстому Фет, – что этот роман есть строгий неподкупный суд всему нашему строю жизни».[13] '\n",
    "\n",
    "message = replace_spaces(''.join([a for a in message.lower() if a in alphabet_ru]))\n",
    "message_en = replace_spaces(''.join([a for a in message_en.lower() if a in alphabet_en]))"
   ]
  },
  {
   "cell_type": "code",
   "execution_count": 10,
   "metadata": {},
   "outputs": [],
   "source": [
    "def encrypt(message, alphabet):\n",
    "    key = list(alphabet)\n",
    "    random.shuffle(key)\n",
    "    translation_table = str.maketrans(alphabet, ''.join(key))\n",
    "    return message.translate(translation_table), {k: v for k, v in zip(list(alphabet), key)}\n",
    "\n",
    "def decrypt_based_on_frequencies(message, frequencies, alphabet):\n",
    "    symbols = ''.join([k for k, v in sorted(frequencies.items(), key=lambda x: x[1], reverse=True)])\n",
    "    message = replace_spaces(''.join([a for a in message if a in alphabet]))\n",
    "    message_frequencies = calculate_frequencies(message)\n",
    "    message_symbols = ''.join([k for k, v in sorted(message_frequencies.items(), key=lambda x: x[1], reverse=True)])\n",
    "    translation_table = str.maketrans(message_symbols, symbols[:len(message_symbols)])\n",
    "    return message.translate(translation_table), {k: v for k, v in zip(message_symbols, symbols[:len(message_symbols)])}\n",
    "\n",
    "def accuracy(message, decrypted_message):\n",
    "    correct = 0\n",
    "    for x, y in zip(message, decrypted_message):\n",
    "        if x == y:\n",
    "            correct += 1\n",
    "    return correct / len(message)"
   ]
  },
  {
   "cell_type": "code",
   "execution_count": 11,
   "metadata": {},
   "outputs": [
    {
     "name": "stdout",
     "output_type": "stream",
     "text": [
      "Исходное сообщение:\n",
      "шефредактор газеты ведомости дмитрий симаков и четыре заместителя главного редактора александр губский борис сафронов филипп стеркин и кирилл харатьян сообщили что покинут издание в знак протеста против назначения главным редактором андрея шмарова сообщается на сайте ведомостей губский работал в ведомостях с момента основания газеты все остальные порядка лет ранее ведомости сообщали что на фоне конфликта со шмаровым редакцию покинули около десяти сотрудников более чем из в том числе руководители трех отделов\n",
      "\n",
      "Зашифрованное сообщение:\n",
      "ичпйчюоацфйхноэчцыхшчюфвфгцухювуцйусхгувоафшхухячцыйчхэовчгцуцчерхнеошёфнфхйчюоацфйохоечагоёюйхнзжгаусхжфйугхгопйфёфшхпуеу  хгцчйауёхухауйуеехдойоцлрёхгффжщуеухяцфх фауёзцхуэюоёучхшхэёоах йфцчгцох йфцушхёоэёоячёурхнеошёывхйчюоацфйфвхоёюйчрхивойфшохгффжщочцгрхёохгосцчхшчюфвфгцчсхнзжгаусхйожфцоехшхшчюфвфгцрдхгхвфвчёцохфгёфшоёурхноэчцыхшгчхфгцоелёычх фйрюаохечцхйоёччхшчюфвфгцухгффжщоеухяцфхёохпфёчхафёпеуацохгфхивойфшывхйчюоаьубх фауёзеухфафефхючгрцухгфцйзюёуафшхжфеччхячвхуэхшхцфвхяугечхйзафшфюуцчеухцйчдхфцючефш\n",
      "\n",
      "Расшифровка на базе частот из Войны и Мира:\n",
      "жачтадевнот яегань радомосни дминтий симевор и ыаньта гемаснинаку якерлояо тадевноте екавселдт язпсвий потис сечтолор чикиб снатвил и витикк шетенюул соопхики ыно бовилзн игделиа р глев бтонасне бтонир леглеыалиу якерльм тадевнотом елдтау жметоре соопхеансу ле сейна радомоснай язпсвий тепонек р радомоснуш с момалне ослорелиу яегань рса оснекюльа ботудве кан телаа радомосни соопхеки ыно ле чола волчкивне со жметорьм тадевциэ бовилзки овоко дасуни сонтздливор покаа ыам иг р ном ыиска тзвородинаки нташ ондакор\n",
      "\n",
      "Совпало 0.12 символов\n"
     ]
    }
   ],
   "source": [
    "print(f'Исходное сообщение:\\n{message}')\n",
    "encrypted, key = encrypt(message, alphabet_ru)\n",
    "print(f'\\nЗашифрованное сообщение:\\n{encrypted}')\n",
    "print('\\nРасшифровка на базе частот из Войны и Мира:')\n",
    "decrypted, found_key = decrypt_based_on_frequencies(encrypted, frequencies_wp_ru, alphabet_ru)\n",
    "print(decrypted)\n",
    "print(f'\\nСовпало {accuracy(message, decrypted):0.2f} символов')"
   ]
  },
  {
   "cell_type": "code",
   "execution_count": 12,
   "metadata": {},
   "outputs": [
    {
     "name": "stdout",
     "output_type": "stream",
     "text": [
      "Исходное сообщение:\n",
      "my name is kvothe i have stolen princesses back from sleeping barrow kings i burned down the town of trebon i have spent the night with felurian and left with both my sanity and my life i was expelled from the university at a younger age than most people are allowed in i tread paths by moonlight that others fear to speak of during day i have talked to gods loved women and written songs that make the minstrels weep you may have heard of me so begins a tale unequaled in fantasy literaturethe story of a hero told in his own voice it is a tale of sorrow a tale of survival a tale of one mans search for meaning in his universe and how that search and the indomitable will that drove it gave birth to a legend\n",
      "\n",
      "Зашифрованное сообщение:\n",
      "geqizgaqjyqcshtxaqjqxzsaqythnaiqlojiwayyayqkzwcqfohgqynaaljimqkzooh qcjimyqjqkuoiadqdh iqtxaqth iqhfqtoakhiqjqxzsaqylaitqtxaqijmxtq jtxqfanuojziqzidqnaftq jtxqkhtxqgeqyzijteqzidqgeqnjfaqjq zyqablannadqfohgqtxaquijsaoyjteqztqzqehuimaoqzmaqtxziqghytqlahlnaqzoaqznnh adqjiqjqtoazdqlztxyqkeqghhinjmxtqtxztqhtxaoyqfazoqthqylazcqhfqduojimqdzeqjqxzsaqtzncadqthqmhdyqnhsadq hgaiqzidq ojttaiqyhimyqtxztqgzcaqtxaqgjiytoanyq aalqehuqgzeqxzsaqxazodqhfqgaqyhqkamjiyqzqtznaquiavuznadqjiqfzitzyeqnjtaoztuoatxaqythoeqhfqzqxaohqthndqjiqxjyqh iqshjwaqjtqjyqzqtznaqhfqyhooh qzqtznaqhfqyuosjsznqzqtznaqhfqhiaqgziyqyazowxqfhoqgazijimqjiqxjyquijsaoyaqzidqxh qtxztqyazowxqzidqtxaqjidhgjtzknaq jnnqtxztqdohsaqjtqmzsaqkjotxqthqzqnamaid\n",
      "\n",
      "Расшифровка на базе частот из Войны и Мира:\n",
      "ug ntue ih vwoase i stwe haoden prinkehheh btkv mrou hdeepinf btrroc vinfh i byrnel locn ase aocn om arebon i stwe hpena ase nifsa cias medyritn tnl dema cias boas ug htniag tnl ug dime i cth expeddel mrou ase yniwerhiag ta t goynfer tfe astn uoha peopde tre tddocel in i aretl ptash bg uoondifsa asta oaserh metr ao hpetv om lyrinf ltg i stwe atdvel ao folh dowel couen tnl criaaen honfh asta utve ase uinharedh ceep goy utg stwe setrl om ue ho befinh t atde ynejytdel in mtnathg diaertayrease haorg om t sero aodl in sih ocn woike ia ih t atde om horroc t atde om hyrwiwtd t atde om one utnh hetrks mor uetninf in sih yniwerhe tnl soc asta hetrks tnl ase inlouiatbde cidd asta lrowe ia ftwe biras ao t defenl\n",
      "\n",
      "Совпало 0.54 символов\n"
     ]
    }
   ],
   "source": [
    "print(f'Исходное сообщение:\\n{message_en}')\n",
    "encrypted, key = encrypt(message_en, alphabet_en)\n",
    "print(f'\\nЗашифрованное сообщение:\\n{encrypted}')\n",
    "print('\\nРасшифровка на базе частот из Войны и Мира:')\n",
    "decrypted, found_key = decrypt_based_on_frequencies(encrypted, frequencies_wp_en, alphabet_en)\n",
    "print(decrypted)\n",
    "print(f'\\nСовпало {accuracy(message_en, decrypted):0.2f} символов')"
   ]
  },
  {
   "cell_type": "markdown",
   "metadata": {},
   "source": [
    "### Получилось как-то совсем не очень"
   ]
  },
  {
   "cell_type": "markdown",
   "metadata": {},
   "source": [
    "## 2. Вряд ли в результате получилась такая уж хорошая расшифровка, разве что если вы брали в качестве тестовых данных целые рассказы. \n",
    "\n",
    "Но и Шерлок Холмс был не так уж прост: после буквы E, которая действительно выделяется частотой, дальше он анализировал уже конкретные слова и пытался угадать, какими они могли бы быть. Я не знаю, как запрограммировать такой интуитивный анализ, так что давайте просто сделаем следующий логический шаг:\n",
    "- подсчитайте частоты биграмм (т.е. пар последовательных букв) по корпусам;\n",
    "- проведите тестирование аналогично п.1, но при помощи биграмм."
   ]
  },
  {
   "cell_type": "code",
   "execution_count": 13,
   "metadata": {},
   "outputs": [],
   "source": [
    "def calculate_bigram_frequencies(text):\n",
    "    c = Counter()\n",
    "    for i in range(0, len(text) - 1):\n",
    "        c[text[i:i+2]] += 1\n",
    "    total = sum(c.values())\n",
    "    for k in c:\n",
    "        c[k] /= total\n",
    "    return c\n",
    "\n",
    "def decrypt_bigram(message, frequencies):\n",
    "    bigrams = [k for k, v in sorted(frequencies.items(), key=lambda x: x[1], reverse=True)]\n",
    "    message_bigrams = calculate_bigram_frequencies(message)\n",
    "    message_sorted = [k for k, v in sorted(message_bigrams.items(), key=lambda x: x[1], reverse=True)]\n",
    "    # Построим словарь для декодирования биграмм\n",
    "    decoder = {k: v for k, v in zip(message_sorted, bigrams[:len(message_sorted)])}\n",
    "    # Расшифруем сообщение\n",
    "    result = ' '\n",
    "    prev_bigram = None\n",
    "    for i in range(0, len(message) - 1):\n",
    "        current_bigram = message[i:i+2]\n",
    "        decoded_current_bigram = decoder[current_bigram]\n",
    "        # 2 буквы, которые мы хотим добавить в конец (последнюю будем перезаписывать)\n",
    "        term = decoded_current_bigram\n",
    "        # Проверяем должны ли мы поменять последнюю букву в существующей последовательности, или оставить ту, которая уже есть\n",
    "        if prev_bigram and frequencies[prev_bigram] > frequencies[current_bigram]:\n",
    "            # Если предыдущая биграмма имела частоту выше, то мы не будем менять последний символ в результате\n",
    "            term = ''.join([result[-1], term[1]])\n",
    "        result = ''.join([result[:-1], term])\n",
    "        prev_bigram = current_bigram\n",
    "    return result"
   ]
  },
  {
   "cell_type": "code",
   "execution_count": 14,
   "metadata": {},
   "outputs": [],
   "source": [
    "bigram_freq_wp_ru = calculate_bigram_frequencies(war_and_peace_ru)\n",
    "bigram_freq_wp_en = calculate_bigram_frequencies(war_and_peace_en)\n",
    "bigram_freq_ak = calculate_bigram_frequencies(anna_karenina)"
   ]
  },
  {
   "cell_type": "code",
   "execution_count": 15,
   "metadata": {},
   "outputs": [
    {
     "name": "stdout",
     "output_type": "stream",
     "text": [
      "Исходное сообщение:\n",
      "шефредактор газеты ведомости дмитрий симаков и четыре заместителя главного редактора александр губский борис сафронов филипп стеркин и кирилл харатьян сообщили что покинут издание в знак протеста против назначения главным редактором андрея шмарова сообщается на сайте ведомостей губский работал в ведомостях с момента основания газеты все остальные порядка лет ранее ведомости сообщали что на фоне конфликта со шмаровым редакцию покинули около десяти сотрудников более чем из в том числе руководители трех отделов\n",
      "\n",
      "Расшифрованное сообщение:\n",
      "свы о оо ракдевкре се  ов л дн лвамосиктай ву какр то спеегл наедстемж чсм оо оо раалллойнвойактыдмалоскрамаоихы т чвчтомомуе нэчалти юаадомегескашудти огтломока м нодлитдь кноора я иерспх  т голрх  т я ериерррур стемжесягоо оо ра олеойто свсскев о огт икоз  ероисдна се  ов нгостыдмалогоак тлегя се  ов ожима оворуылв я чввор сдевкре сзав  олыйлыа нраеутцийоогоатиа се  ов л о огт лиока м ерчсаьа й ьусаонло м всскевсягоо олсвжанодлитвов й дм аегол о  ваошорй в кмлоа аужу вшя   окагллогобй ажеунаноаваочв тман в\n",
      "\n",
      "Совпало 0.10 символов\n"
     ]
    }
   ],
   "source": [
    "print(f'Исходное сообщение:\\n{message}')\n",
    "encrypted, key = encrypt(message, alphabet_ru)\n",
    "decrypted = decrypt_bigram(encrypted, bigram_freq_wp_ru)\n",
    "print(f'\\nРасшифрованное сообщение:\\n{decrypted}')\n",
    "print(f'\\nСовпало {accuracy(message, decrypted):0.2f} символов')"
   ]
  },
  {
   "cell_type": "code",
   "execution_count": 16,
   "metadata": {},
   "outputs": [
    {
     "name": "stdout",
     "output_type": "stream",
     "text": [
      "Исходное сообщение:\n",
      "my name is kvothe i have stolen princesses back from sleeping barrow kings i burned down the town of trebon i have spent the night with felurian and left with both my sanity and my life i was expelled from the university at a younger age than most people are allowed in i tread paths by moonlight that others fear to speak of during day i have talked to gods loved women and written songs that make the minstrels weep you may have heard of me so begins a tale unequaled in fantasy literaturethe story of a hero told in his own voice it is a tale of sorrow a tale of survival a tale of one mans search for meaning in his universe and how that search and the indomitable will that drove it gave birth to a legend\n",
      "\n",
      "Расшифрованное сообщение:\n",
      "vesldvetlealsidnetisrf e hftitt nhanyicae howu itsa  himayanchowscfnelancotihirgees usea dne atea o nllrtantisrf e hntairdnessidseh lioitef hkesh  b it uh liohtadorve nastieh  b vewcocetiseila dnenoesitsa idnemrsta wbuiehegheiear c cheie dr s lkoftnetsiehasrhenoonestantisllrpo pagfihapwlo ncidserdr gredn whiteasha  hneurgo  r hanc wootisrf e g apes a dtrigawetes ia tth  b ht iitt he coadr graurr dnenwanollrc aimaiieaanafowrf e ooasv o nde hehaufan aeog demroieifdestaniblsiituwc i drg prgne hfut ro neoo m datastan ileaeeaepmpket itleaeog dero  hutcfnheog dero  h pugspdheog dero n nina s  heasmoituthdo sanctan ilearsta wheh  b banodr g heasmoh  b dnetanusw ief eh lno dr g rxetet idgf ehodpuora heoilat b\n",
      "\n",
      "Совпало 0.16 символов\n"
     ]
    }
   ],
   "source": [
    "print(f'Исходное сообщение:\\n{message_en}')\n",
    "encrypted, key = encrypt(message_en, alphabet_en)\n",
    "decrypted = decrypt_bigram(encrypted, bigram_freq_wp_en)\n",
    "print(f'\\nРасшифрованное сообщение:\\n{decrypted}')\n",
    "print(f'\\nСовпало {accuracy(message_en, decrypted):0.2f} символов')"
   ]
  },
  {
   "cell_type": "markdown",
   "metadata": {},
   "source": [
    "### По метрике результат стал хуже. Похоже, что для биграмм нужен более длинный текст сообщения - все-таки у нас становится n^2 символов вместо n в словаре."
   ]
  },
  {
   "cell_type": "markdown",
   "metadata": {},
   "source": [
    "## 3. Но и это ещё не всё: биграммы скорее всего тоже далеко не всегда работают. Основная часть задания — в том, как можно их улучшить:\n",
    "- предложите метод обучения перестановки символов в этом задании, основанный на MCMC-сэмплировании, но по-прежнему работающий на основе статистики биграмм;\n",
    "- реализуйте и протестируйте его, убедитесь, что результаты улучшились."
   ]
  },
  {
   "cell_type": "markdown",
   "metadata": {},
   "source": [
    "Далее единицей перестановки будем считать биграмму, то есть в строке 'ABCD' - 2 биграммы - 'AB'и 'CD'. "
   ]
  },
  {
   "cell_type": "markdown",
   "metadata": {},
   "source": [
    "Предлагаю следующий метод:\n",
    "\n",
    "- Попробуем в качестве состояний марковской цепи использовать буквы, тогда можно по корпусу построить матрицу переходов $T$. По сути это и будут биграммы.\n",
    "\n",
    "- Далее мы можем для произвольной строки текста $s$ вычислить вероятность того, что она была порождена этой марковской цепью - $P(s) = \\prod_i p(s_{i+1}|s_i) = \\prod_i T_{s_i,s_{i+1}}$\n",
    "\n",
    "- Нам нужно найти такую перестановку букв, которая после применения к зашифрованному сообщению получит результат, имеющий высокую $P$\n",
    "\n",
    "- Попробуем применить MCMC для поиска такой перестановки, начиная от случайной:\n",
    "    + На каждом шаге меняем случайно 2 буквы в перестановке местами\n",
    "    + Считаем отношение $P2/P1$ для старой и новой перестановок и используя метод Метрополиса-Гастинга принимаем решение оставить ли новую перестановку ($P2 > P1$ или выпала правильная монетка) или вернуть старую. На самом деле будем брать случайную величину от 0 до 1 и сравнивать с $P2/P1$, если случайная величина больше - оставляем старую. (если $P2 > P1$ - случайная величина всегда меньше).\n",
    "    + Будем делать несколько итераций (несколько сотен итераций) и сохранять результат.\n",
    "    + Запускаем алгоритм много раз и выбираем лучшую финальную перестановку для всех итераций.\n",
    "    \n",
    "Также применил баесовское сглаживание для матрицы $T$, чтобы избежать нулевых вероятностей порождения текста из модели."
   ]
  },
  {
   "cell_type": "code",
   "execution_count": 17,
   "metadata": {},
   "outputs": [],
   "source": [
    "class CipherDecoder:\n",
    "    def __init__(self, corpus, alphabet):\n",
    "        self.alphabet = alphabet\n",
    "        c = Counter()\n",
    "        for i in range(len(corpus) - 1):\n",
    "            c[(corpus[i], corpus[i + 1])] += 1\n",
    "        for ch_1 in alphabet:\n",
    "            for ch_2 in alphabet:\n",
    "                c[(ch_1, ch_2)] += 1\n",
    "        total = len(corpus) - 1 + len(alphabet) ** 2\n",
    "        for k in c.keys():\n",
    "            c[k] /= total\n",
    "        self.T = c\n",
    "    \n",
    "    def decode(self, message, max_iter=2000, max_attempts=10):\n",
    "        best_guess = message\n",
    "        for j in range(max_attempts):\n",
    "            # случайная инициализация\n",
    "            permutation = self._init_permutation()\n",
    "            for i in range(max_iter):\n",
    "                # выбираем 2 символа перестановки, чтобы их поменять\n",
    "                key_1 = random.choice(list(permutation.keys()))\n",
    "                key_2 = random.choice(list(permutation.keys()))\n",
    "                # расшифровка текущей перестановкой\n",
    "                text_1 = self._decode_with_permutation(message, permutation)\n",
    "                permutation[key_1], permutation[key_2] = permutation[key_2], permutation[key_1]\n",
    "                # расшифровка измененной перестановкой\n",
    "                text_2 = self._decode_with_permutation(message, permutation)\n",
    "                # Вычисляем отношение для условия в алгоритме Метрополиса Гастинга (тут мы используем обратное условие, чтобы не изменять перестановку)\n",
    "                ratio = self._calculate_probability_ratio(text_2, text_1)\n",
    "                if random.uniform(0, 1) > ratio:\n",
    "                    # Если обратное условие выполняется - отменяем изменение перестановки\n",
    "                    permutation[key_1], permutation[key_2] = permutation[key_2], permutation[key_1]\n",
    "            attempt_result = self._decode_with_permutation(message, permutation)\n",
    "            # Получили ли мы в текущей цепочке лучший результат?\n",
    "            if self._calculate_probability_ratio(attempt_result, best_guess) > 1:\n",
    "                best_guess = attempt_result\n",
    "        return best_guess\n",
    "        \n",
    "    def _decode_with_permutation(self, text, p):\n",
    "        return ''.join([p[a] for a in text])\n",
    "        \n",
    "    def _init_permutation(self):\n",
    "        # Случайная перестановка\n",
    "        shuffled_alphabet = list(self.alphabet)\n",
    "        random.shuffle(shuffled_alphabet)\n",
    "        shuffled_alphabet = ''.join(shuffled_alphabet)\n",
    "        key = {k: v for k, v in zip(self.alphabet, shuffled_alphabet)}\n",
    "        return key\n",
    "    \n",
    "    def _calculate_probability_ratio(self, a, b):\n",
    "        assert len(a) == len(b), 'Texts should be of equal length'\n",
    "        ratio = 1\n",
    "        for i in range(len(a) - 1):\n",
    "            ratio *= self.T[(a[i], a[i+1])] / self.T[(b[i], b[i+1])]\n",
    "        return ratio"
   ]
  },
  {
   "cell_type": "code",
   "execution_count": 18,
   "metadata": {},
   "outputs": [],
   "source": [
    "decoder = CipherDecoder(war_and_peace_en, alphabet_en)\n",
    "encrypted, key = encrypt(message_en, alphabet_en)"
   ]
  },
  {
   "cell_type": "code",
   "execution_count": 21,
   "metadata": {},
   "outputs": [
    {
     "name": "stdout",
     "output_type": "stream",
     "text": [
      "my name is kvothe i have stolen princesses back from sleeping barrow kings i burned down the town of trebon i have spent the night with felurian and left with both my sanity and my life i was expelled from the university at a younger age than most people are allowed in i tread paths by moonlight that others fear to speak of during day i have talked to gods loved women and written songs that make the minstrels weep you may have heard of me so begins a tale unequaled in fantasy literaturethe story of a hero told in his own voice it is a tale of sorrow a tale of survival a tale of one mans search for meaning in his universe and how that search and the indomitable will that drove it gave birth to a legend\n",
      "\n",
      "Совпало 1.00 символов\n"
     ]
    }
   ],
   "source": [
    "decrypted = decoder.decode(encrypted)\n",
    "print(decrypted)\n",
    "print(f'\\nСовпало {accuracy(message_en, decrypted):0.2f} символов')"
   ]
  },
  {
   "cell_type": "markdown",
   "metadata": {},
   "source": [
    "Ура, расшифровка получилась, пришлос запустить несколько раз и глазами определить качество перевода, так как сходиться мржет к локальным максимумам, которые далеки от того, что мы ищем"
   ]
  },
  {
   "cell_type": "markdown",
   "metadata": {},
   "source": [
    "## 4. Расшифруйте сообщение:"
   ]
  },
  {
   "cell_type": "code",
   "execution_count": 22,
   "metadata": {},
   "outputs": [
    {
     "data": {
      "text/plain": [
       "'ржзахвёхваоагрхлчмущзцлёихазахкчтгахлчмущзцлёихгрнжгхпхйгчъчхжччебрлафхнчгчмёихзрънчхкмчтагщгцхжнчмррхвжръчхвёхвжрхжорзщзахкмщвазцлчхахкчзптагрхущнжаущзцлёихещззхдщхкчжзролррхтргврмгчрхдщощлархнпмжщхсчгфхнчлртлчхфхлатръчхлрхчербщш'"
      ]
     },
     "execution_count": 22,
     "metadata": {},
     "output_type": "execute_result"
    }
   ],
   "source": [
    "secret_message = '←⇠⇒↟↹↷⇊↹↷↟↤↟↨←↹↝⇛⇯↳⇴⇒⇈↝⇊↾↹↟⇒↟↹⇷⇛⇞↨↟↹↝⇛⇯↳⇴⇒⇈↝⇊↾↹↨←⇌⇠↨↹⇙↹⇸↨⇛↙⇛↹⇠⇛⇛↲⇆←↝↟↞↹⇌⇛↨⇛⇯⇊↾↹⇒←↙⇌⇛↹⇷⇯⇛⇞↟↨⇴↨⇈↹⇠⇌⇛⇯←←↹↷⇠←↙⇛↹↷⇊↹↷⇠←↹⇠↤←⇒⇴⇒↟↹⇷⇯⇴↷↟⇒⇈↝⇛↹↟↹⇷⇛⇒⇙⇞↟↨←↹↳⇴⇌⇠↟↳⇴⇒⇈↝⇊↾↹↲⇴⇒⇒↹⇰⇴↹⇷⇛⇠⇒←↤↝←←↹⇞←↨↷←⇯↨⇛←↹⇰⇴↤⇴↝↟←↹⇌⇙⇯⇠⇴↹↘⇛↨↞↹⇌⇛↝←⇞↝⇛↹↞↹↝↟⇞←↙⇛↹↝←↹⇛↲←⇆⇴⇏'\n",
    "secret_ru_transcoder = {k: v for k, v in zip(set(secret_message), alphabet_ru)}\n",
    "secret_message_ru = ''.join([secret_ru_transcoder[k] for k in secret_message])\n",
    "secret_message_ru"
   ]
  },
  {
   "cell_type": "code",
   "execution_count": 23,
   "metadata": {},
   "outputs": [
    {
     "name": "stdout",
     "output_type": "stream",
     "text": [
      "28\n"
     ]
    }
   ],
   "source": [
    "print(len(set(secret_message)))"
   ]
  },
  {
   "cell_type": "markdown",
   "metadata": {},
   "source": [
    "Различных букв 27 + пробел, то есть скорее всего язык в сообщении русский, а не английский"
   ]
  },
  {
   "cell_type": "code",
   "execution_count": 24,
   "metadata": {},
   "outputs": [],
   "source": [
    "decoder_ru = CipherDecoder(war_and_peace_ru, alphabet_ru)"
   ]
  },
  {
   "cell_type": "code",
   "execution_count": 29,
   "metadata": {},
   "outputs": [
    {
     "name": "stdout",
     "output_type": "stream",
     "text": [
      "CPU times: user 4min, sys: 24 ms, total: 4min\n",
      "Wall time: 4min\n"
     ]
    },
    {
     "data": {
      "text/plain": [
       "'если вы вичите норжальный или подти норжальный текст у этого сообщения который легко продитать скорее всего вы все счелали правильно и полудите жаксижальный балл за послечнее детвертое зачание курса мотя конедно я нидего не обещах'"
      ]
     },
     "execution_count": 29,
     "metadata": {},
     "output_type": "execute_result"
    }
   ],
   "source": [
    "%%time\n",
    "decoder_ru.decode(secret_message_ru, max_attempts=800)"
   ]
  },
  {
   "cell_type": "markdown",
   "metadata": {},
   "source": [
    "Теперь легко догадаться, что зашифрованное сообщение:\n",
    "\n",
    "\"если вы видите нормальный или подти нормальный текст у этого сообщения который легко прочитать скорее всего вы все сделали правильно и получите максимальный балл за последнее четвертое задание курса хотя конечно я ничего не обещаю\""
   ]
  },
  {
   "cell_type": "markdown",
   "metadata": {},
   "source": [
    "## 6. Бонус: какие вы можете придумать применения для этой модели? \n",
    "Пляшущие человечки ведь не так часто встречаются в жизни (хотя встречаются! и это самое потрясающее во всей этой истории, но об этом я расскажу потом)."
   ]
  },
  {
   "cell_type": "markdown",
   "metadata": {},
   "source": [
    "По идее эта модель позволяет заполнять пропуски в данных, если известна марковская цепь, которая их хорошо описывает, например:\n",
    "    Восстановление пропусков в аудиозаписях (речь)\n",
    "    Восстановление пропусков на изображениях"
   ]
  },
  {
   "cell_type": "code",
   "execution_count": null,
   "metadata": {},
   "outputs": [],
   "source": []
  }
 ],
 "metadata": {
  "kernelspec": {
   "display_name": "Python 3",
   "language": "python",
   "name": "python3"
  },
  "language_info": {
   "codemirror_mode": {
    "name": "ipython",
    "version": 3
   },
   "file_extension": ".py",
   "mimetype": "text/x-python",
   "name": "python",
   "nbconvert_exporter": "python",
   "pygments_lexer": "ipython3",
   "version": "3.7.6"
  }
 },
 "nbformat": 4,
 "nbformat_minor": 4
}
